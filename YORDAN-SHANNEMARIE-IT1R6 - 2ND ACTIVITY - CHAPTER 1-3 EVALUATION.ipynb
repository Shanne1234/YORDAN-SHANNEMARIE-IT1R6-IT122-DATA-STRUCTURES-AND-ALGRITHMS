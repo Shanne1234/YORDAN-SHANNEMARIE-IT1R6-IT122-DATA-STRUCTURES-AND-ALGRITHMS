{
 "cells": [
  {
   "cell_type": "code",
   "execution_count": null,
   "id": "7ffca77b",
   "metadata": {},
   "outputs": [],
   "source": [
    "print (\"Discuss your learnings on Chapter 1  time-frame 8:00 - 30:35. Minimum of 200 characters\")\n",
    "print (\"=======================================================================================\")\n",
    "print (\"in chapter it is all about Data structures and algorithms\")\n",
    "print (\"\")\n",
    "print (\"data is named a location that can be used to store and organize data.\")\n",
    "print (\"\")\n",
    "print (\"their have a following terms are the foundation of data structure.\")\n",
    "print (\"\")\n",
    "print (\">interface- each data structure has an interface.\") \n",
    "print (\">implementation -implement provides the internal representation of data structure.\")  \n",
    "print (\"\") \n",
    "print (\"the characteristic of data structure\")\n",
    "print (\"\")\n",
    "print (\">correctness- should correctly implement its interface\")\n",
    "print (\">time complexity- the time complexity is how long a program takes to process a given input.\")\n",
    "print (\">space complexity- the amount of memory\")\n",
    "print (\"\")\n",
    "print (\"algorithms is a collection of steps to solve the problem\")\n",
    "print (\" that tranform into input to output.\")\n",
    "print (\"\")\n",
    "print (\"excution time cases\")\n",
    "print (\"\")\n",
    "print (\"worst case\")\n",
    "print (\"average case\")\n",
    "print (\"best case\")\n",
    "\n",
    "\n",
    "       \n",
    "    "
   ]
  },
  {
   "cell_type": "code",
   "execution_count": null,
   "id": "341eed62",
   "metadata": {},
   "outputs": [],
   "source": [
    "print (\"Discuss your learnings on Chapter 1  time-frame 35:00 - end. Minimum of 200 characters\")\n",
    "print (\"\")\n",
    "print (\"\")\n",
    "print (\"\")\n",
    "print (\"\")\n",
    "print (\"\")"
   ]
  },
  {
   "cell_type": "code",
   "execution_count": 9,
   "id": "8df971c2",
   "metadata": {},
   "outputs": [
    {
     "name": "stdout",
     "output_type": "stream",
     "text": [
      "Discuss your learnings on Chapter 2  time-frame 5:00 - 9:00. Minimum of 200 characters\n",
      "=========================================================================================\n",
      "\n",
      "in chapter 2 we tackle about:\n",
      "\n",
      ">Data definition\n",
      ">Data object\n",
      ">Data type\n",
      ">Built in data type\n",
      ">Derive data type\n",
      ">Basic Operations\n",
      "\n",
      " in data Defination defines in the paticular data with the following characteristic.\n",
      "\n",
      ">atomic\n",
      ">traceable\n",
      ">accurate\n",
      ">clear and concise - a understable\n",
      "\n",
      "data object-The most common example of a data object is a data table, but others include \n",
      "arrays, pointers, records, files, sets, and scalar types.\n",
      "\n",
      "Data type- the representation of nature and type of data that has been going to be used in programming or\n",
      "\n",
      "Built in Data type -Those data types for which a language has built-in support are known as Built-in Data types.\n",
      "\n",
      "Derive data type - Derived data type is the aggregation of fundamental data type. character, integer, float,\n",
      " and void are fundamental data types.\tPointers, arrays, structures and unions are derived data types.\n"
     ]
    }
   ],
   "source": [
    "print (\"Discuss your learnings on Chapter 2  time-frame 5:00 - 9:00. Minimum of 200 characters\")\n",
    "print (\"=========================================================================================\")\n",
    "print (\"\")\n",
    "print (\"in chapter 2 we tackle about:\")\n",
    "print (\"\")\n",
    "print (\">Data definition\")\n",
    "print (\">Data object\")\n",
    "print (\">Data type\")\n",
    "print (\">Built in data type\")\n",
    "print (\">Derive data type\")\n",
    "print (\">Basic Operations\")\n",
    "print (\"\")\n",
    "print (\" in data Defination defines in the paticular data with the following characteristic.\")\n",
    "print (\"\")\n",
    "print (\">atomic\")\n",
    "print (\">traceable\")\n",
    "print (\">accurate\")\n",
    "print (\">clear and concise - a understable\")\n",
    "print (\"\")\n",
    "print (\"data object-The most common example of a data object is a data table, but others include \")\n",
    "print (\"arrays, pointers, records, files, sets, and scalar types.\")\n",
    "print (\"\")\n",
    "print (\"Data type- the representation of nature and type of data that has been going to be used in programming or\")\n",
    "print (\"\")\n",
    "print (\"Built in Data type -Those data types for which a language has built-in support are known as Built-in Data types.\")\n",
    "print (\"\")\n",
    "print (\"Derive data type - Derived data type is the aggregation of fundamental data type. character, integer, float,\")\n",
    "print (\" and void are fundamental data types.\tPointers, arrays, structures and unions are derived data types.\")\n"
   ]
  },
  {
   "cell_type": "code",
   "execution_count": 11,
   "id": "32d7f726",
   "metadata": {},
   "outputs": [
    {
     "name": "stdout",
     "output_type": "stream",
     "text": [
      "Discuss your learnings on Chapter 3  time-frame 3:00 - 18:00. Minimum of 200 characters\n",
      "==========================================================================================\n",
      "\n",
      "in chapter 3 we tackle about the objectives:\n",
      ">array\n",
      ">array representation\n",
      ">basic operations\n",
      "\n",
      "array - Array is a container which can hold a fix number of items and these items should be of the same type.\n",
      "\n",
      "The following  are the important terms  to  understand the concept of array.\n",
      "\n",
      ">element\n",
      ">index\n",
      "\n",
      "array representation- hese memory locations are called elements of that array.\n",
      "                      The total number of elements in an array is called length.\n",
      "\n",
      "*Basic operation*\n",
      "\n",
      "following basic operation:\n",
      ">traverse\n",
      ">insertion\n",
      ">deletion\n",
      ">search\n",
      ">update\n"
     ]
    }
   ],
   "source": [
    "print (\"Discuss your learnings on Chapter 3  time-frame 3:00 - 18:00. Minimum of 200 characters\")\n",
    "print (\"==========================================================================================\")\n",
    "print (\"\")\n",
    "print (\"in chapter 3 we tackle about the objectives:\")\n",
    "print (\">array\")\n",
    "print (\">array representation\")\n",
    "print (\">basic operations\")\n",
    "print (\"\")\n",
    "print (\"array - Array is a container which can hold a fix number of items and these items should be of the same type.\")\n",
    "print (\"\")\n",
    "print (\"The following  are the important terms  to  understand the concept of array.\")\n",
    "print (\"\")\n",
    "print (\">element\")\n",
    "print (\">index\")\n",
    "print (\"\")\n",
    "print (\"array representation- hese memory locations are called elements of that array.\")\n",
    "print (\"                      The total number of elements in an array is called length.\")\n",
    "print (\"\")\n",
    "print (\"*Basic operation*\")\n",
    "print (\"\")\n",
    "print (\"following basic operation:\")\n",
    "print (\">traverse\")\n",
    "print (\">insertion\")\n",
    "print (\">deletion\")\n",
    "print (\">search\")\n",
    "print (\">update\")\n",
    "\n",
    "    "
   ]
  },
  {
   "cell_type": "code",
   "execution_count": 13,
   "id": "807910ed",
   "metadata": {},
   "outputs": [
    {
     "name": "stdout",
     "output_type": "stream",
     "text": [
      "First element: 11\n",
      "Second element: 15\n",
      "Last element: 20\n"
     ]
    }
   ],
   "source": [
    "import array as arr\n",
    "a = arr.array('i', [11, 15, 20, 20])\n",
    "\n",
    "print(\"First element:\", a[0])\n",
    "print(\"Second element:\", a[1])\n",
    "print(\"Last element:\", a[-1])"
   ]
  },
  {
   "cell_type": "code",
   "execution_count": null,
   "id": "a4a5035f",
   "metadata": {},
   "outputs": [],
   "source": []
  }
 ],
 "metadata": {
  "kernelspec": {
   "display_name": "Python 3",
   "language": "python",
   "name": "python3"
  },
  "language_info": {
   "codemirror_mode": {
    "name": "ipython",
    "version": 3
   },
   "file_extension": ".py",
   "mimetype": "text/x-python",
   "name": "python",
   "nbconvert_exporter": "python",
   "pygments_lexer": "ipython3",
   "version": "3.8.6"
  }
 },
 "nbformat": 4,
 "nbformat_minor": 5
}
